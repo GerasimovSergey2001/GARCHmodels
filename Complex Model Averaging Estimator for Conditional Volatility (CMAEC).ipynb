{
 "cells": [
  {
   "cell_type": "code",
   "execution_count": 1,
   "id": "877dd286",
   "metadata": {},
   "outputs": [],
   "source": [
    "import pandas as pd\n",
    "import numpy as np\n",
    "import seaborn as sns\n",
    "from scipy.optimize import minimize, Bounds\n",
    "import plotly.express as px\n",
    "import math\n",
    "import matplotlib.pyplot as plt\n",
    "plt.style.use('ggplot')\n",
    "from tqdm.auto import tqdm\n",
    "# импортируем генераторы процессов с разными рычагами и KL метрику\n",
    "from leverage_functions_and_metrics import gen_e, gen_gjr, gen_poly, gen_t, gen_lin,gen_multy_poly, multy_poly_leverage  \n",
    "from leverage_functions_and_metrics import l_e, l_gjr, l_poly, l_t, KL, expectation_2m_\n",
    "import time\n",
    "import warnings\n",
    "# warnings.filterwarnings('ignore')"
   ]
  },
  {
   "cell_type": "markdown",
   "id": "46bd7b0f",
   "metadata": {},
   "source": [
    "__Вспомогательные функции для совместного \"правдоподобия\"__"
   ]
  },
  {
   "cell_type": "code",
   "execution_count": 42,
   "id": "2e4e8982",
   "metadata": {},
   "outputs": [],
   "source": [
    "def vol_egarch(x_e, eps):\n",
    "    n = len(eps)\n",
    "    nu_e = np.array([np.nan]*n)\n",
    "    logsigma_e2 = np.array([np.nan]*n)\n",
    "    logsigma_e2[0] = np.log(x_e[-1]**2)\n",
    "    w_e = x_e[0]\n",
    "    a_e = x_e[1]\n",
    "    b_e = x_e[2]\n",
    "    theta_e = x_e[3]\n",
    "    nu_e[0] = eps[0]/np.sqrt(np.exp(logsigma_e2[0]))\n",
    "    for t in range(1,n):\n",
    "        logsigma_e2[t] = w_e + a_e*(theta_e*nu_e[t-1] + ( abs(nu_e[t-1])-np.sqrt(2/np.pi) )) + b_e*logsigma_e2[t-1]\n",
    "        nu_e[t] = eps[t]/np.sqrt(np.exp(logsigma_e2[t]))\n",
    "    return np.exp(logsigma_e2)\n",
    "def vol_poly(x_poly, eps):\n",
    "    n = len(eps)\n",
    "    nu_p = np.array([np.nan]*n)\n",
    "    logsigma_poly2 = np.array([np.nan]*n)\n",
    "    logsigma_poly2[0] = np.log(x_poly[-1]**2)\n",
    "    w_p = x_poly[0]\n",
    "    a_p = x_poly[1]\n",
    "    b_p = x_poly[2]\n",
    "    theta_p1 = x_poly[3]\n",
    "    theta_p2 = x_poly[4]\n",
    "    nu_p[0] = eps[0]/np.sqrt(np.exp(logsigma_poly2[0]))\n",
    "    for t in range(1,n):\n",
    "        logsigma_poly2[t] = w_p + theta_p1*nu_p[t-1] + theta_p2*(nu_p[t-1]**2-1) + b_p*logsigma_poly2[t-1]\n",
    "        nu_p[t] = eps[t]/np.sqrt(np.exp(logsigma_poly2[t]))\n",
    "    return np.exp(logsigma_poly2)\n",
    "def vol_gjr(x_gjr, eps):\n",
    "    n =len(eps)\n",
    "    nu_gjr = np.array([np.nan]*n)\n",
    "    logsigma_gjr2 = np.array([np.nan]*n)\n",
    "    logsigma_gjr2[0] = np.log(x_gjr[-1]**2)\n",
    "    w_gjr = x_gjr[0]\n",
    "    a_gjr = x_gjr[1]\n",
    "    b_gjr = x_gjr[2]\n",
    "    theta_gjr = x_gjr[3]\n",
    "    nu_gjr[0] = eps[0]/np.sqrt(np.exp(logsigma_gjr2[0]))\n",
    "    for t in range(1,n):\n",
    "        logsigma_gjr2[t] = w_gjr + (a_gjr +theta_gjr * (eps[t-1]<0))*eps[t-1]**2 + b_gjr*logsigma_gjr2[t-1]\n",
    "        nu_gjr[t] = eps[t]/np.sqrt(np.exp(logsigma_gjr2[t]))\n",
    "    return np.exp(logsigma_gjr2)\n",
    "def vol_tgarch(x_t, eps):\n",
    "    n = len(eps)\n",
    "    nu_t = np.array([np.nan]*n)\n",
    "    logsigma_t2 = np.array([np.nan]*n)\n",
    "    logsigma_t2[0] = np.log(x_t[-1]**2)\n",
    "    w_t = x_t[0]\n",
    "    b_t = x_t[1]\n",
    "    theta_plus_t = x_t[2]\n",
    "    theta_minus_t = x_t[3]\n",
    "    nu_t[0] = eps[0]/np.sqrt(np.exp(logsigma_t2[0]))\n",
    "    for t in range(1,n):\n",
    "        logsigma_t2[t] = w_t + theta_plus_t*eps[t-1]*(eps[t-1]>=0) - theta_minus_t*eps[t-1]*(eps[t-1]<0) + b_t*logsigma_t2[t-1]\n",
    "        nu_t[t] = eps[t]/np.sqrt(np.exp(logsigma_t2[t]))\n",
    "    return np.exp(logsigma_t2)"
   ]
  },
  {
   "cell_type": "markdown",
   "id": "d5b56673",
   "metadata": {},
   "source": [
    "__Запишем \"правдоподобие\" CMAECV для моделей EGARCH, EGARCH с полиномиальным рычагом, GJR-GARCH и TGARCH__"
   ]
  },
  {
   "cell_type": "code",
   "execution_count": 127,
   "id": "42050efb",
   "metadata": {},
   "outputs": [],
   "source": [
    "def L(x, eps, lambda_):\n",
    "    x_e, x_poly, x_gjr, x_t, w = x[:5], x[5:11], x[11:16], x[16:21], np.array(x[21:])\n",
    "    sigma2 = np.array([vol_egarch(x_e,eps), vol_poly(x_poly,eps),\n",
    "                                                  vol_gjr(x_gjr,eps), vol_tgarch(x_t, eps)])\n",
    "    h = w@sigma2\n",
    "    return 0.5*np.sum(np.log(h)) + np.sum(eps/(2*h)) + lambda_*np.sum(np.abs(w*w)) #+n*np.log(2*np.pi)*0.5"
   ]
  },
  {
   "cell_type": "markdown",
   "id": "e716cac5",
   "metadata": {},
   "source": [
    "__Тест на симуляции__"
   ]
  },
  {
   "cell_type": "code",
   "execution_count": 131,
   "id": "a91dac3f",
   "metadata": {},
   "outputs": [],
   "source": [
    "np.random.seed(42)\n",
    "n = 10000\n",
    "nu = np.random.normal(0,1, n)\n",
    "x_lin = np.array([0.118, 0.24, 0.319, 0.286, -0.25, 0.441, -0.24, 0.32, -0.28 ,0.13, -0.145, 0.15, 0.58, 0.9])\n",
    "sigma_lin = gen_lin(x_lin, nu)\n",
    "eps = sigma_lin*nu"
   ]
  },
  {
   "cell_type": "code",
   "execution_count": 132,
   "id": "ca360209",
   "metadata": {},
   "outputs": [],
   "source": [
    "x = [0.2,0.3,0.1, -0.5, 0.9,\n",
    "     0.2,0.3,0.1, -0.5,0.15, 0.9,\n",
    "     0.02,0.03,0.01, 0.05, 0.9,\n",
    "     0.2,0.3,0.1, -0.5, 0.9,\n",
    "     0.25, 0.25,0.25,0.25]"
   ]
  },
  {
   "cell_type": "code",
   "execution_count": 133,
   "id": "68a96713",
   "metadata": {},
   "outputs": [
    {
     "data": {
      "text/plain": [
       "1036.6865465765743"
      ]
     },
     "execution_count": 133,
     "metadata": {},
     "output_type": "execute_result"
    }
   ],
   "source": [
    "L(x, eps, lambda_=1)"
   ]
  }
 ],
 "metadata": {
  "kernelspec": {
   "display_name": "Python 3 (ipykernel)",
   "language": "python",
   "name": "python3"
  },
  "language_info": {
   "codemirror_mode": {
    "name": "ipython",
    "version": 3
   },
   "file_extension": ".py",
   "mimetype": "text/x-python",
   "name": "python",
   "nbconvert_exporter": "python",
   "pygments_lexer": "ipython3",
   "version": "3.9.12"
  },
  "varInspector": {
   "cols": {
    "lenName": 16,
    "lenType": 16,
    "lenVar": 40
   },
   "kernels_config": {
    "python": {
     "delete_cmd_postfix": "",
     "delete_cmd_prefix": "del ",
     "library": "var_list.py",
     "varRefreshCmd": "print(var_dic_list())"
    },
    "r": {
     "delete_cmd_postfix": ") ",
     "delete_cmd_prefix": "rm(",
     "library": "var_list.r",
     "varRefreshCmd": "cat(var_dic_list()) "
    }
   },
   "types_to_exclude": [
    "module",
    "function",
    "builtin_function_or_method",
    "instance",
    "_Feature"
   ],
   "window_display": false
  }
 },
 "nbformat": 4,
 "nbformat_minor": 5
}
