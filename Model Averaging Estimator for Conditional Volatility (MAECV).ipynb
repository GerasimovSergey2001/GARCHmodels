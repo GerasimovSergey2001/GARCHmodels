{
 "cells": [
  {
   "cell_type": "code",
   "execution_count": 361,
   "id": "4d7aa6b9",
   "metadata": {},
   "outputs": [],
   "source": [
    "import pandas as pd\n",
    "import numpy as np\n",
    "import seaborn as sns\n",
    "from scipy.optimize import minimize, Bounds\n",
    "import plotly.express as px\n",
    "import math\n",
    "import matplotlib.pyplot as plt\n",
    "plt.style.use('ggplot')\n",
    "from tqdm.auto import tqdm\n",
    "# импортируем генераторы процессов с разными рычагами и KL метрику\n",
    "from leverage_functions_and_metrics import gen_e, gen_gjr, gen_poly, gen_t, gen_lin,gen_multy_poly, multy_poly_leverage  \n",
    "from leverage_functions_and_metrics import l_e, l_gjr, l_poly, l_t, KL, expectation_2m_\n",
    "import time\n",
    "import warnings\n",
    "# warnings.filterwarnings('ignore')"
   ]
  },
  {
   "cell_type": "markdown",
   "id": "8acc884d",
   "metadata": {},
   "source": [
    "## Сгенерируем данные с помощью GARCH с рычага с линейными комбинациями существующих"
   ]
  },
  {
   "cell_type": "code",
   "execution_count": 363,
   "id": "e6afd838",
   "metadata": {},
   "outputs": [],
   "source": [
    "np.random.seed(42)\n",
    "n = 1000\n",
    "nu = np.random.normal(0,1, n)\n",
    "x_lin = np.array([0.118, 0.24, 0.319, 0.286, -0.25, 0.441, -0.24, 0.32, -0.28 ,0.13, -0.145, 0.15, 0.58, 0.9])\n",
    "sigma_lin = gen_lin(x_lin, nu)"
   ]
  },
  {
   "cell_type": "code",
   "execution_count": 364,
   "id": "66670482",
   "metadata": {},
   "outputs": [],
   "source": [
    "eps = sigma_lin*nu"
   ]
  },
  {
   "cell_type": "code",
   "execution_count": 365,
   "id": "d58c6b0c",
   "metadata": {},
   "outputs": [
    {
     "data": {
      "image/png": "[encoded data removed]",
      "text/plain": [
       "<Figure size 432x288 with 1 Axes>"
      ]
     },
     "metadata": {},
     "output_type": "display_data"
    }
   ],
   "source": [
    "sns.lineplot(x=range(n), y=eps);"
   ]
  },
  {
   "cell_type": "markdown",
   "id": "8c9fcb4a",
   "metadata": {},
   "source": [
    "## С помощью ММП оценим параметры EGARCH, EGARCH c полиномиальным рычагом, TGARCH, GJR-GARCH"
   ]
  },
  {
   "cell_type": "code",
   "execution_count": 366,
   "id": "15b8be80",
   "metadata": {},
   "outputs": [
    {
     "name": "stderr",
     "output_type": "stream",
     "text": [
      "C:\\Users\\Asus\\anaconda3\\lib\\site-packages\\scipy\\optimize\\_hessian_update_strategy.py:182: UserWarning: delta_grad == 0.0. Check if the approximated function is linear. If the function is linear better results can be obtained by defining the Hessian as zero instead of using quasi-Newton approximations.\n",
      "  warn('delta_grad == 0.0. Check if the approximated '\n"
     ]
    }
   ],
   "source": [
    "# EGARCH\n",
    "bnds = Bounds(-2,2)\n",
    "opts = {'maxiter' : 1000}\n",
    "x0 = np.array([0.2,0.3,0.1, -0.5, 0.9])\n",
    "res_e = minimize(l_e, x0=x0, args=(eps), method='trust-constr', bounds=bnds, options=opts)\n",
    "x_e = res_e.x"
   ]
  },
  {
   "cell_type": "code",
   "execution_count": 367,
   "id": "4d0dca07",
   "metadata": {},
   "outputs": [
    {
     "data": {
      "text/plain": [
       "True"
      ]
     },
     "execution_count": 367,
     "metadata": {},
     "output_type": "execute_result"
    }
   ],
   "source": [
    "res_e.success"
   ]
  },
  {
   "cell_type": "code",
   "execution_count": 368,
   "id": "b735d790",
   "metadata": {},
   "outputs": [],
   "source": [
    "# EGARCH with polynomial leverage\n",
    "bnds = Bounds(-2,2)\n",
    "opts = {'maxiter' : 1000}\n",
    "x0 = np.array([0.2,0.3,0.1, -0.5,0.15, 0.9])\n",
    "res_poly = minimize(l_poly, x0=x0, args=(eps), method='trust-constr', bounds=bnds, options=opts)\n",
    "x_poly = res_poly.x"
   ]
  },
  {
   "cell_type": "code",
   "execution_count": 369,
   "id": "2a423e79",
   "metadata": {},
   "outputs": [
    {
     "data": {
      "text/plain": [
       "True"
      ]
     },
     "execution_count": 369,
     "metadata": {},
     "output_type": "execute_result"
    }
   ],
   "source": [
    "res_poly.success"
   ]
  },
  {
   "cell_type": "code",
   "execution_count": 370,
   "id": "96eed4e1",
   "metadata": {},
   "outputs": [],
   "source": [
    "# GJR-GARCH \n",
    "bnds = Bounds(-2,2)\n",
    "opts = {'maxiter' : 1000}\n",
    "x0 =  np.array([0.02,0.03,0.01, 0.05, 0.9])\n",
    "res_gjr = minimize(l_gjr, x0=x0, args=(eps), method='trust-constr', bounds=bnds, options=opts)\n",
    "x_gjr = res_gjr.x"
   ]
  },
  {
   "cell_type": "code",
   "execution_count": 371,
   "id": "10b169d4",
   "metadata": {},
   "outputs": [
    {
     "data": {
      "text/plain": [
       "True"
      ]
     },
     "execution_count": 371,
     "metadata": {},
     "output_type": "execute_result"
    }
   ],
   "source": [
    "res_gjr.success"
   ]
  },
  {
   "cell_type": "code",
   "execution_count": 372,
   "id": "f6fed1a0",
   "metadata": {},
   "outputs": [],
   "source": [
    "# TGARCH \n",
    "bnds = Bounds(-2,2)\n",
    "opts = {'maxiter' : 1000}\n",
    "x0 = np.array([0.2,0.3,0.1, -0.5, 0.9])\n",
    "res_t = minimize(l_t, x0=x0, args=(eps), method='trust-constr', bounds=bnds, options=opts)\n",
    "x_t = res_t.x"
   ]
  },
  {
   "cell_type": "markdown",
   "id": "15557d8b",
   "metadata": {},
   "source": [
    "## На основе полученных оценок сгенерируем волатильости процессов"
   ]
  },
  {
   "cell_type": "code",
   "execution_count": 373,
   "id": "31f60eab",
   "metadata": {},
   "outputs": [],
   "source": [
    "# EGARCH\n",
    "nu_e = np.array([np.nan]*n)\n",
    "logsigma_e2 = np.array([np.nan]*n)\n",
    "logsigma_e2[0] = np.log(x_e[-1]**2)\n",
    "w_e = x_e[0]\n",
    "a_e = x_e[1]\n",
    "b_e = x_e[2]\n",
    "theta_e = x_e[3]\n",
    "nu_e[0] = eps[0]/np.sqrt(np.exp(logsigma_e2[0]))\n",
    "for t in range(1,n):\n",
    "    logsigma_e2[t] = w_e + a_e*(theta_e*nu_e[t-1] + ( abs(nu_e[t-1])-np.sqrt(2/np.pi) )) + b_e*logsigma_e2[t-1]\n",
    "    nu_e[t] = eps[t]/np.sqrt(np.exp(logsigma_e2[t]))\n",
    "sigma_e = np.sqrt(np.exp(logsigma_e2))"
   ]
  },
  {
   "cell_type": "code",
   "execution_count": 374,
   "id": "9db4206b",
   "metadata": {},
   "outputs": [],
   "source": [
    "# EGARCH с полиномиальным рычагом\n",
    "nu_p = np.array([np.nan]*n)\n",
    "logsigma_poly2 = np.array([np.nan]*n)\n",
    "logsigma_poly2[0] = np.log(x_poly[-1]**2)\n",
    "w_p = x_poly[0]\n",
    "a_p = x_poly[1]\n",
    "b_p = x_poly[2]\n",
    "theta_p1 = x_poly[3]\n",
    "theta_p2 = x_poly[4]\n",
    "nu_p[0] = eps[0]/np.sqrt(np.exp(logsigma_poly2[0]))\n",
    "for t in range(1,n):\n",
    "    logsigma_poly2[t] = w_p + theta_p1*nu_p[t-1] + theta_p2*(nu_p[t-1]**2-1) + b_p*logsigma_poly2[t-1]\n",
    "    nu_p[t] = eps[t]/np.sqrt(np.exp(logsigma_poly2[t]))\n",
    "sigma_poly = np.sqrt(np.exp(logsigma_poly2))"
   ]
  },
  {
   "cell_type": "code",
   "execution_count": 375,
   "id": "d2ec952d",
   "metadata": {},
   "outputs": [],
   "source": [
    "# GJR-GARCH\n",
    "nu_gjr = np.array([np.nan]*n)\n",
    "logsigma_gjr2 = np.array([np.nan]*n)\n",
    "logsigma_gjr2[0] = np.log(x_gjr[-1]**2)\n",
    "w_gjr = x_gjr[0]\n",
    "a_gjr = x_gjr[1]\n",
    "b_gjr = x_gjr[2]\n",
    "theta_gjr = x_gjr[3]\n",
    "nu_gjr[0] = eps[0]/np.sqrt(np.exp(logsigma_gjr2[0]))\n",
    "for t in range(1,n):\n",
    "    logsigma_gjr2[t] = w_gjr + (a_gjr +theta_gjr * (eps[t-1]<0))*eps[t-1]**2 + b_gjr*logsigma_poly2[t-1]\n",
    "    nu_gjr[t] = eps[t]/np.sqrt(np.exp(logsigma_gjr2[t]))\n",
    "sigma_gjr = np.sqrt(np.exp(logsigma_gjr2))"
   ]
  },
  {
   "cell_type": "code",
   "execution_count": 376,
   "id": "d6c00a62",
   "metadata": {},
   "outputs": [],
   "source": [
    "# TGARCH\n",
    "nu_t = np.array([np.nan]*n)\n",
    "logsigma_t2 = np.array([np.nan]*n)\n",
    "logsigma_t2[0] = np.log(x_t[-1]**2)\n",
    "w_t = x_t[0]\n",
    "b_t = x_t[1]\n",
    "theta_plus_t = x_t[2]\n",
    "theta_minus_t = x_t[3]\n",
    "nu_t[0] = eps[0]/np.sqrt(np.exp(logsigma_t2[0]))\n",
    "for t in range(1,n):\n",
    "    logsigma_t2[t] = w_t + theta_plus_t*eps[t-1]*(eps[t-1]>=0) - theta_minus_t*eps[t-1]*(eps[t-1]<0) + b_t*logsigma_t2[t-1]\n",
    "    nu_t[t] = eps[t]/np.sqrt(np.exp(logsigma_t2[t]))\n",
    "sigma_t = np.sqrt(np.exp(logsigma_t2))"
   ]
  },
  {
   "cell_type": "code",
   "execution_count": 377,
   "id": "6131e948",
   "metadata": {},
   "outputs": [],
   "source": [
    "# Соберем волатильности в матрицу\n",
    "sigma_m = np.array([sigma_e, sigma_poly, sigma_gjr, sigma_t])"
   ]
  },
  {
   "cell_type": "markdown",
   "id": "414bdfd5",
   "metadata": {},
   "source": [
    "## Model Averaging Estimator for Conditional Volatility"
   ]
  },
  {
   "cell_type": "markdown",
   "id": "12507db1",
   "metadata": {},
   "source": [
    "## $\\hat{h}_t = \\sum_{m=1}^M w_m \\sigma_{m,t}^2$\n",
    "\n",
    "## $\\varepsilon_t = \\hat{h}_t^{1/2} \\eta_t$ ~ N(0, $\\hat{h}_t$)\n",
    "\n",
    "## где $\\eta_i$ ~ $i.i.d. N(0,1)$\n"
   ]
  },
  {
   "cell_type": "markdown",
   "id": "11f8b6d1",
   "metadata": {},
   "source": [
    "## Далее выписываем ММП и оптимизируем по $w_m|_{m=1}^M$"
   ]
  },
  {
   "cell_type": "code",
   "execution_count": 378,
   "id": "77909145",
   "metadata": {},
   "outputs": [],
   "source": [
    "w_m = np.array([1/sigma_m.shape[0]]*sigma_m.shape[0])"
   ]
  },
  {
   "cell_type": "code",
   "execution_count": 379,
   "id": "d0bd8d90",
   "metadata": {},
   "outputs": [],
   "source": [
    "def l_w(w, sigma_m, eps, lambda_):\n",
    "    #n = len(eps)\n",
    "    return 0.5*np.sum(np.log(w@sigma_m**2)) + np.sum(eps/(2*w@sigma_m**2)) + lambda_*np.sum(np.abs(w*w)) #+n*np.log(2*np.pi)*0.5  "
   ]
  },
  {
   "cell_type": "code",
   "execution_count": 394,
   "id": "50c3bd54",
   "metadata": {},
   "outputs": [
    {
     "data": {
      "text/plain": [
       "122.93304026494779"
      ]
     },
     "execution_count": 394,
     "metadata": {},
     "output_type": "execute_result"
    }
   ],
   "source": [
    "l_w(w_m,sigma_m, eps,10)"
   ]
  },
  {
   "cell_type": "code",
   "execution_count": 381,
   "id": "44b27bb8",
   "metadata": {},
   "outputs": [],
   "source": [
    "eq_cons = {'type': 'eq',\n",
    "           'fun': lambda x: np.array ([x[0]+x[1]+x[2]+x[3] - 1]),\n",
    "           'jac': lambda x: np.array ([1.0,1.0,1.0,1])\n",
    "          }"
   ]
  },
  {
   "cell_type": "code",
   "execution_count": 495,
   "id": "0105c648",
   "metadata": {
    "scrolled": false
   },
   "outputs": [
    {
     "name": "stdout",
     "output_type": "stream",
     "text": [
      "Optimization terminated successfully    (Exit mode 0)\n",
      "            Current function value: 1370.4328573466155\n",
      "            Iterations: 3\n",
      "            Function evaluations: 23\n",
      "            Gradient evaluations: 3\n"
     ]
    }
   ],
   "source": [
    "bounds = Bounds(0,1)\n",
    "x0 = w_m\n",
    "res = minimize(l_w, \n",
    "               x0, \n",
    "               args=(sigma_m,eps,5000), method='SLSQP',\n",
    "               constraints=[eq_cons], \n",
    "               options={'ftol': 1e-9, 'disp': True},\n",
    "               bounds=bounds)"
   ]
  },
  {
   "cell_type": "code",
   "execution_count": 496,
   "id": "2e80bcfb",
   "metadata": {},
   "outputs": [
    {
     "data": {
      "text/plain": [
       "     fun: 1370.4328573466155\n",
       "     jac: array([2990.14915466, 2990.14915466, 2990.14912415, 2990.1491394 ])\n",
       " message: 'Optimization terminated successfully'\n",
       "    nfev: 23\n",
       "     nit: 3\n",
       "    njev: 3\n",
       "  status: 0\n",
       " success: True\n",
       "       x: array([0.2498964, 0.250098 , 0.2500929, 0.2499127])"
      ]
     },
     "execution_count": 496,
     "metadata": {},
     "output_type": "execute_result"
    }
   ],
   "source": [
    "res"
   ]
  },
  {
   "cell_type": "code",
   "execution_count": 497,
   "id": "7aa4d738",
   "metadata": {},
   "outputs": [],
   "source": [
    "sigma_teta = np.sqrt(res.x@sigma_m**2)"
   ]
  },
  {
   "cell_type": "code",
   "execution_count": 498,
   "id": "e613a3ac",
   "metadata": {},
   "outputs": [
    {
     "name": "stdout",
     "output_type": "stream",
     "text": [
      "KL дивергенция для полученных оценок 3.951992411817874\n"
     ]
    }
   ],
   "source": [
    "print('KL дивергенция для полученных оценок',\n",
    "      np.sum(-1/2 - np.log(sigma_lin)+np.log(sigma_teta)+0.5*(sigma_lin/sigma_teta)**2))"
   ]
  },
  {
   "cell_type": "code",
   "execution_count": 499,
   "id": "cc0acc00",
   "metadata": {},
   "outputs": [
    {
     "data": {
      "text/plain": [
       "3.848589831584363"
      ]
     },
     "execution_count": 499,
     "metadata": {},
     "output_type": "execute_result"
    }
   ],
   "source": [
    "# EGARCH\n",
    "np.sum(-1/2 - np.log(sigma_lin)+np.log(sigma_e)+0.5*(sigma_lin/sigma_e)**2)"
   ]
  },
  {
   "cell_type": "code",
   "execution_count": 500,
   "id": "983e028d",
   "metadata": {},
   "outputs": [
    {
     "data": {
      "text/plain": [
       "3.9734436818526255"
      ]
     },
     "execution_count": 500,
     "metadata": {},
     "output_type": "execute_result"
    }
   ],
   "source": [
    "# TGARCH\n",
    "np.sum(-1/2 - np.log(sigma_lin)+np.log(sigma_t)+0.5*(sigma_lin/sigma_t)**2)"
   ]
  },
  {
   "cell_type": "code",
   "execution_count": 501,
   "id": "32b59e1c",
   "metadata": {},
   "outputs": [
    {
     "data": {
      "text/plain": [
       "4.3788575549888336"
      ]
     },
     "execution_count": 501,
     "metadata": {},
     "output_type": "execute_result"
    }
   ],
   "source": [
    "# GJR GARCH\n",
    "np.sum(-1/2 - np.log(sigma_lin)+np.log(sigma_gjr)+0.5*(sigma_lin/sigma_gjr)**2)"
   ]
  },
  {
   "cell_type": "code",
   "execution_count": 502,
   "id": "0689c83a",
   "metadata": {},
   "outputs": [
    {
     "data": {
      "text/plain": [
       "4.639583095059965"
      ]
     },
     "execution_count": 502,
     "metadata": {},
     "output_type": "execute_result"
    }
   ],
   "source": [
    "# EGARCH poly\n",
    "np.sum(-1/2 - np.log(sigma_lin)+np.log(sigma_poly)+0.5*(sigma_lin/sigma_poly)**2)"
   ]
  }
 ],
 "metadata": {
  "kernelspec": {
   "display_name": "Python 3 (ipykernel)",
   "language": "python",
   "name": "python3"
  },
  "language_info": {
   "codemirror_mode": {
    "name": "ipython",
    "version": 3
   },
   "file_extension": ".py",
   "mimetype": "text/x-python",
   "name": "python",
   "nbconvert_exporter": "python",
   "pygments_lexer": "ipython3",
   "version": "3.9.12"
  },
  "varInspector": {
   "cols": {
    "lenName": 16,
    "lenType": 16,
    "lenVar": 40
   },
   "kernels_config": {
    "python": {
     "delete_cmd_postfix": "",
     "delete_cmd_prefix": "del ",
     "library": "var_list.py",
     "varRefreshCmd": "print(var_dic_list())"
    },
    "r": {
     "delete_cmd_postfix": ") ",
     "delete_cmd_prefix": "rm(",
     "library": "var_list.r",
     "varRefreshCmd": "cat(var_dic_list()) "
    }
   },
   "types_to_exclude": [
    "module",
    "function",
    "builtin_function_or_method",
    "instance",
    "_Feature"
   ],
   "window_display": false
  }
 },
 "nbformat": 4,
 "nbformat_minor": 5
}
